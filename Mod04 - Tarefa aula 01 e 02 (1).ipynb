{
 "cells": [
  {
   "cell_type": "markdown",
   "metadata": {},
   "source": [
    "# Tarefa 01\n",
    "\n",
    "- Leia os enunciados com atenção\n",
    "- Saiba que pode haver mais de uma resposta correta\n",
    "- Insira novas células de código sempre que achar necessário\n",
    "- Em caso de dúvidas, procure os tutores\n",
    "- Divirta-se :)\n",
    "\n",
    "#### 1)  crie uma série do pandas a partir de uma lista com os dados abaixo:\n",
    "\n",
    "Em um estudo sobre alteração na tempreatura global, A NASA disponibiliza dados de diferenças de de temperatura média da superfície terrestre relativos às médias de temperatura entre 1951 e 1980. Os dados originais podem ser vistos no site da NASA/GISS, e estão dispostos a cada década na tabela abaixo.\n",
    "\n",
    "|ano|anomalia termica|\n",
    "|:-:|:----:|\n",
    "| 1900 | -0.08 |\n",
    "| 1920 | -0.27 |\n",
    "| 1940 | 0.12 |\n",
    "| 1960 | -0.03 |\n",
    "| 1980 | 0.26 |\n",
    "| 2000 | 0.40 |\n",
    "| 2020 | 1.02 |\n",
    "\n",
    "Crie uma séries do Pandas a partir de uma lista com esses dados."
   ]
  },
  {
   "cell_type": "code",
   "execution_count": 26,
   "metadata": {},
   "outputs": [
    {
     "data": {
      "text/plain": [
       "0   -0.08\n",
       "1   -0.27\n",
       "2    0.12\n",
       "3   -0.03\n",
       "4    0.26\n",
       "5    0.40\n",
       "6    1.02\n",
       "dtype: float64"
      ]
     },
     "execution_count": 26,
     "metadata": {},
     "output_type": "execute_result"
    }
   ],
   "source": [
    "import pandas as pd\n",
    "import numpy as np\n",
    "\n",
    "# Seu código aqui\n",
    "anomalia_termica = [-0.08,-0.27,0.12,-0.03,0.26,0.40,1.02]\n",
    "classeSocialSemIndex = pd.Series(anomalia_termica)\n",
    "classeSocialSemIndex\n"
   ]
  },
  {
   "cell_type": "code",
   "execution_count": 14,
   "metadata": {},
   "outputs": [
    {
     "data": {
      "text/plain": [
       "1900   -0.08\n",
       "1920   -0.27\n",
       "1940    0.12\n",
       "1960   -0.03\n",
       "1980    0.26\n",
       "2000    0.40\n",
       "2020    1.02\n",
       "dtype: float64"
      ]
     },
     "execution_count": 14,
     "metadata": {},
     "output_type": "execute_result"
    }
   ],
   "source": [
    "classeSocialComIndex = pd.Series([-0.08,-0.27,0.12,-0.03,0.26,0.40,1.02],\n",
    "index =[\"1900\",\"1920\",\"1940\",\"1960\",\"1980\",\"2000\",\"2020\",])\n",
    "classeSocialComIndex"
   ]
  },
  {
   "cell_type": "code",
   "execution_count": 16,
   "metadata": {},
   "outputs": [
    {
     "name": "stdout",
     "output_type": "stream",
     "text": [
      "1900   -0.08\n",
      "1920   -0.27\n",
      "1940    0.12\n",
      "1960   -0.03\n",
      "1980    0.26\n",
      "2000    0.40\n",
      "2020    1.02\n",
      "dtype: float64\n"
     ]
    }
   ],
   "source": [
    "import pandas as pd\n",
    "\n",
    "# Definição dos dados\n",
    "dados = {\n",
    "    1900: -0.08,\n",
    "    1920: -0.27,\n",
    "    1940: 0.12,\n",
    "    1960: -0.03,\n",
    "    1980: 0.26,\n",
    "    2000: 0.40,\n",
    "    2020: 1.02\n",
    "}\n",
    "\n",
    "# Criando a série do Pandas\n",
    "serie_temperatura = pd.Series(dados)\n",
    "\n",
    "# Exibindo a série\n",
    "print(serie_temperatura)\n"
   ]
  },
  {
   "cell_type": "markdown",
   "metadata": {},
   "source": [
    "#### 2) Coloque os anos nos índices conforme a tabela."
   ]
  },
  {
   "cell_type": "code",
   "execution_count": 24,
   "metadata": {},
   "outputs": [
    {
     "data": {
      "text/plain": [
       "0    1900\n",
       "1    1920\n",
       "2    1940\n",
       "3    1960\n",
       "4    1980\n",
       "5    2000\n",
       "6    2020\n",
       "dtype: int64"
      ]
     },
     "execution_count": 24,
     "metadata": {},
     "output_type": "execute_result"
    }
   ],
   "source": [
    "# seu código aqui\n",
    "anos = [1900,1920,1940,1960,1980,2000,2020]\n",
    "classeSocialSemIndex = pd.Series(anos)\n",
    "classeSocialSemIndex\n"
   ]
  },
  {
   "cell_type": "markdown",
   "metadata": {},
   "source": [
    "#### 3) A partir do dicionário abaixo, crie uma séries do Pandas:"
   ]
  },
  {
   "cell_type": "code",
   "execution_count": 28,
   "metadata": {},
   "outputs": [
    {
     "data": {
      "text/plain": [
       "1900   -0.08\n",
       "1920   -0.27\n",
       "1940    0.12\n",
       "1960   -0.03\n",
       "1980    0.26\n",
       "2000    0.40\n",
       "2020    1.02\n",
       "dtype: float64"
      ]
     },
     "execution_count": 28,
     "metadata": {},
     "output_type": "execute_result"
    }
   ],
   "source": [
    "dic_temperaturas = {1900: -.08, 1920: -.27, 1940: .12, 1960: -.03, 1980: .26, 2000: .40, 2020: 1.02}\n",
    "\n",
    "# seu código aqui\n",
    "classeSocialSeries = pd.Series(dic_temperaturas)\n",
    "classeSocialSeries"
   ]
  },
  {
   "cell_type": "markdown",
   "metadata": {},
   "source": [
    "#### 4) Transforme o ndarray abaixo em um dataframe. \n",
    "O numpy é capaz de gerar arrays n-dimensionais com números pseudo-aleatórios de acordo com uma variedade de distribuições, como no exemplo abaixo. Transforme esse nd-array em um DataFrame."
   ]
  },
  {
   "cell_type": "code",
   "execution_count": 41,
   "metadata": {},
   "outputs": [
    {
     "name": "stdout",
     "output_type": "stream",
     "text": [
      "             A           B           C\n",
      "0   102.656707   86.240565   94.542847\n",
      "1   108.140986  101.827226   97.744987\n",
      "2    88.343813   87.537301   87.855633\n",
      "3   105.854180  101.467224  117.176066\n",
      "4   101.956185  108.106793   97.211552\n",
      "5    96.960543  113.993935   97.145738\n",
      "6   103.387872   80.479776   94.055190\n",
      "7    99.319203   89.035914  102.567418\n",
      "8   100.391007  105.528851  108.520670\n",
      "9   100.321565  117.144636   94.155074\n",
      "10   88.149259   91.573016   87.536254\n",
      "11  108.848230   99.894931  102.772446\n",
      "12   96.042906   77.528793  113.022475\n",
      "13  109.394712   86.694552  110.318820\n",
      "14  121.029260  106.183378  105.913919\n",
      "15  119.211005  107.741536  101.697292\n",
      "16   90.602792  106.629195   84.986401\n",
      "17  117.439854  105.254471  107.907763\n",
      "18   97.756684  103.386670  111.153132\n",
      "19   94.299868  102.808603   98.211795\n"
     ]
    }
   ],
   "source": [
    "\n",
    "arr = np.random.normal(100, 10, (20,3))\n",
    "# seu código aqui\n",
    "\n",
    "import numpy as np\n",
    "import pandas as pd\n",
    "\n",
    "# Gerando o array 20x3 com distribuição normal (média=100, desvio=10)\n",
    "arr = np.random.normal(100, 10, (20,3))\n",
    "\n",
    "# Convertendo para DataFrame\n",
    "df = pd.DataFrame(arr, columns=['A', 'B', 'C'])\n",
    "\n",
    "# Exibindo o DataFrame\n",
    "print(df)\n"
   ]
  },
  {
   "cell_type": "markdown",
   "metadata": {},
   "source": [
    "#### 5) Nomeie os índices das linhas com inteiros de 1 a 20, e as colunas com os nomes \"x1\", \"x2\", e \"x3\" respectivamente."
   ]
  },
  {
   "cell_type": "code",
   "execution_count": 8,
   "metadata": {},
   "outputs": [
    {
     "name": "stdout",
     "output_type": "stream",
     "text": [
      "            x1          x2          x3\n",
      "1   102.892586   81.352287  106.745469\n",
      "2   107.330251   86.661804   94.273251\n",
      "3    88.544019  104.901421   94.355759\n",
      "4    88.852777   88.768193   94.880823\n",
      "5    93.973975   83.759771  111.745458\n",
      "6   113.415352  114.041209  114.846065\n",
      "7   119.223732  106.071553   96.698348\n",
      "8    95.412528  101.715812  108.493493\n",
      "9   106.409443   95.413492   99.129131\n",
      "10  102.657494   98.616401   87.868514\n",
      "11  105.613333   95.393477   97.025381\n",
      "12  105.019177   88.053960   98.598007\n",
      "13   92.919385   92.628907  116.607983\n",
      "14  101.021724   89.749572  113.006726\n",
      "15   89.171664   82.175245   97.800805\n",
      "16  119.004248  120.392648  102.740309\n",
      "17   91.748011  113.175231  102.811956\n",
      "18   96.256636  100.760514   76.662081\n",
      "19   93.043533  106.868508   84.509814\n",
      "20  108.996739   84.119957  114.145665\n"
     ]
    }
   ],
   "source": [
    "#seu código aqui\n",
    "import numpy as np\n",
    "import pandas as pd\n",
    "\n",
    "# Gerando o array 20x3 com distribuição normal (média=100, desvio=10)\n",
    "arr = np.random.normal(100, 10, (20,3))\n",
    "\n",
    "df = pd.DataFrame (arr, columns=['x1','x2','x3'])\n",
    "\n",
    "df.index = range(1,21)\n",
    "\n",
    "print(df)\n"
   ]
  },
  {
   "cell_type": "markdown",
   "metadata": {},
   "source": [
    "#### 6) No DataFrame do exercício 5, crie uma nova coluna como sendo a média das três colunas, e dê a ela o nome de \"media\" (não recomendo colocar acentos em nomes de variáveis)."
   ]
  },
  {
   "cell_type": "code",
   "execution_count": 10,
   "metadata": {},
   "outputs": [
    {
     "name": "stdout",
     "output_type": "stream",
     "text": [
      "            x1          x2          x3       media\n",
      "1    95.460499  114.367619  110.553394  106.793837\n",
      "2   112.916341   98.909795  101.034804  104.286980\n",
      "3    99.157887  110.538218  110.333258  106.676455\n",
      "4   113.796012   96.904346  108.820154  106.506837\n",
      "5    90.186450  107.293764   90.677589   96.052601\n",
      "6    92.735832  110.925343   91.359476   98.340217\n",
      "7    98.565737   96.507620   79.894488   91.655949\n",
      "8    96.123040  108.563773   96.327836  100.338217\n",
      "9    85.747514   88.706698   92.438319   88.964177\n",
      "10   98.286051   99.770897  111.340737  103.132562\n",
      "11  100.028480  111.894672  101.534750  104.485967\n",
      "12  104.542883  100.819980   97.901118  101.087994\n",
      "13  105.463910   75.429632  103.661104   94.851549\n",
      "14  104.617905   92.557952   89.874784   95.683547\n",
      "15   99.136614   89.632850  111.945996  100.238486\n",
      "16   93.003048  106.282829  102.588125  100.624668\n",
      "17  100.772589  107.077538   90.946922   99.599016\n",
      "18   94.345935  104.508125   88.956960   95.937007\n",
      "19   98.103510  118.400667   99.585165  105.363114\n",
      "20   85.396732  103.922986  104.808778   98.042832\n"
     ]
    }
   ],
   "source": [
    "# seu código aqui\n",
    "import numpy as np\n",
    "import pandas as pd\n",
    "\n",
    "import numpy as np\n",
    "import pandas as pd\n",
    "\n",
    "# Gerando o array 20x3 com distribuição normal (média=100, desvio=10)\n",
    "arr = np.random.normal(100, 10, (20,3))\n",
    "\n",
    "df = pd.DataFrame(arr, columns=['x1', 'x2', 'x3'])\n",
    "\n",
    "# Renomeando os índices de 1 a 20\n",
    "df.index = range(1, 21)\n",
    "\n",
    "# Criando a nova coluna 'media' como a média das colunas x1, x2 e x3\n",
    "df['media'] = df.mean(axis=1)\n",
    "\n",
    "# Exibindo o DataFrame atualizado\n",
    "print(df)\n"
   ]
  },
  {
   "cell_type": "markdown",
   "metadata": {},
   "source": [
    "#### 7) No DataFrame do exercício 6, crie uma nova coluna chamada \"log_med\", contendo o logaritmo natural da média calculada no exercício 6 <br>"
   ]
  },
  {
   "cell_type": "code",
   "execution_count": 9,
   "metadata": {},
   "outputs": [],
   "source": [
    "# seu código aqui\n",
    "import numpy as np\n",
    "import pandas as pd\n",
    "\n",
    "# Gerando o array 20x3 com distribuição normal (média=100, desvio=10)\n",
    "arr = np.random.normal(100, 10, (20,3))\n",
    "\n",
    "# Convertendo para DataFrame com nomes de colunas personalizados\n",
    "df = pd.DataFrame(arr, columns=['x1', 'x2', 'x3'])\n",
    "\n",
    "# Renomeando os índices de 1 a 20\n",
    "df.index = range(1, 21)\n",
    "\n",
    "# Criando a nova coluna 'media' como a média das colunas x1, x2 e x3\n",
    "df['media'] = df.mean(axis=1)\n",
    "\n",
    "# Criando a nova coluna 'log_med' com o logaritmo natural da coluna 'media'\n",
    "df['log_med'] = np.log(df['media'])\n",
    "\n",
    "# Exibindo o DataFrame atualizado\n",
    "print(df)\n"
   ]
  }
 ],
 "metadata": {
  "kernelspec": {
   "display_name": "Python [conda env:base] *",
   "language": "python",
   "name": "conda-base-py"
  },
  "language_info": {
   "codemirror_mode": {
    "name": "ipython",
    "version": 3
   },
   "file_extension": ".py",
   "mimetype": "text/x-python",
   "name": "python",
   "nbconvert_exporter": "python",
   "pygments_lexer": "ipython3",
   "version": "3.12.7"
  }
 },
 "nbformat": 4,
 "nbformat_minor": 4
}
