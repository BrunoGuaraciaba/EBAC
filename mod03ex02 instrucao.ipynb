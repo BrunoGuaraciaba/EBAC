{
 "cells": [
  {
   "cell_type": "code",
   "execution_count": 5,
   "metadata": {
    "id": "fFhFteHV695k"
   },
   "outputs": [],
   "source": [
    "import numpy as np"
   ]
  },
  {
   "cell_type": "markdown",
   "metadata": {
    "id": "YLWEzg3N695m"
   },
   "source": [
    "### 1) Alturas  \n",
    "i. No trecho de código abaixo, crie um ndarray chamado ```altura_em_centimetros``` transformando a lista ```lista_de_alturas``` em um ndarray do numpy com a função ```np.array()```  \n",
    "ii. Crie um outro objeto ```altura_em_metros```, com os valores de ```altura_em_centimetros``` convertidos para metros."
   ]
  },
  {
   "cell_type": "code",
   "execution_count": 26,
   "metadata": {
    "id": "tx6DbJk7695o"
   },
   "outputs": [],
   "source": [
    "#Criando a lista de alturas em centímetros\n",
    "lista_de_centimetros = list(range(170, 190, 5))\n",
    "\n",
    "# i. Criando a ndarray a partir da lista\n",
    "altura_em_centimetros = np.array(lista_de_centimetros)\n",
    "\n",
    "# ii. Convertendo para metros\n",
    "altura_em_metros = altura_em_centimetros / 100\n",
    "\n",
    "#Exibindo os resultados / opcional\n",
    "#print(\"Altura em centímetros:\", altura_em_centimetros)\n",
    "#print(\"Altura em metros:\", altura_em_metros)\n"
   ]
  },
  {
   "cell_type": "code",
   "execution_count": 22,
   "metadata": {
    "id": "-tXC4lyT695o"
   },
   "outputs": [
    {
     "data": {
      "text/plain": [
       "array([170, 175, 180, 185])"
      ]
     },
     "execution_count": 22,
     "metadata": {},
     "output_type": "execute_result"
    }
   ],
   "source": [
    "altura_em_centimetros "
   ]
  },
  {
   "cell_type": "code",
   "execution_count": 24,
   "metadata": {
    "id": "zFDQt9_K695p"
   },
   "outputs": [
    {
     "data": {
      "text/plain": [
       "array([1.7 , 1.75, 1.8 , 1.85])"
      ]
     },
     "execution_count": 24,
     "metadata": {},
     "output_type": "execute_result"
    }
   ],
   "source": [
    "altura_em_metros "
   ]
  },
  {
   "cell_type": "markdown",
   "metadata": {
    "id": "hlsDzubv695p"
   },
   "source": [
    "### 2) IMC  \n",
    "i. Considere que pesos em Kg dessas pessoas, na mesma ortem, estão na lista pesos ```lista_pesos = [70, 75, 80, 85]```. Crie um **ndarray** chamado ```pesos``` com a função ```np.array()``` que contenha esses valores.  \n",
    "ii. Utilizando o objeto que contém as alturas em metros e esse objeto que contém os respectivos pesos em quilos, calcule o IMC desses indivíduos utilizando a aritmética de arrays e guarde os resultados em um objeto chamado ```imc```."
   ]
  },
  {
   "cell_type": "code",
   "execution_count": 40,
   "metadata": {
    "id": "YL87C0It695p",
    "outputId": "f147f2f0-c5e8-407c-a708-914ddc99fa6d"
   },
   "outputs": [
    {
     "name": "stdout",
     "output_type": "stream",
     "text": [
      "IMC: [22.85714286 23.14814815 29.38475666 23.54570637]\n"
     ]
    }
   ],
   "source": [
    "lista_pesos = [70, 75, 80, 85]\n",
    "lista_alturas = [1.75,1.8,1.65,1.90]\n",
    "# seu código aqui\n",
    "\n",
    "#i. Criando a ndarray a partir da lista\n",
    "pesos = np.array(lista_pesos)\n",
    "alturas = np.array(lista_alturas)\n",
    "\n",
    "# ii. Calculando o IMC\n",
    "imc = pesos/(alturas ** 2)\n",
    "\n",
    "#Exibindo os resultados\n",
    "print(\"IMC:\", imc)\n"
   ]
  },
  {
   "cell_type": "code",
   "execution_count": 44,
   "metadata": {
    "id": "WgZtY2Ox695q"
   },
   "outputs": [
    {
     "name": "stdout",
     "output_type": "stream",
     "text": [
      "Pessoa1: 22.86\n",
      "Pessoa2: 23.15\n",
      "Pessoa3: 29.38\n",
      "Pessoa4: 23.55\n"
     ]
    }
   ],
   "source": [
    "#Exibindo os resultados com formatação\n",
    "for i, valor in enumerate(imc, start=1):\n",
    "    print(f\"Pessoa{i}: {valor:.2f}\")\n"
   ]
  },
  {
   "cell_type": "markdown",
   "metadata": {
    "id": "k1JIBxZb695r"
   },
   "source": [
    "### 3) Endividamento\n",
    "\n",
    "Cálculos de novas variáveis como endividamento total e comprometimento de renda são essenciais para a construção de modelos financeiros em ciência de dados. Áreas não financeiras terão cálculos semelhantes também. Vamos praticar:\n",
    "\n",
    "Considere que o seguinte ndarray contém os dados de 4 pessoas, total a ser pago a empréstimos mensalmente e renda familiar:\n",
    "\n",
    "| custo fixo | dívida financeira | renda familiar |\n",
    "|:----:|:----:|:---|\n",
    "| 3000  | 1000 | 6000 |\n",
    "| 2500  | 2500 | 5500 |\n",
    "| 1000  | 3000 | 7000 |\n",
    "| 10000 | 5000 | 16000 |\n",
    "\n",
    "i. Transforme a lista de listas ```dados_financeiros``` no ndarray ```nd_financeiros```.\n",
    "> ``` dados_financeiros[[3000, 2500, 1000, 10000],[1000, 2500, 3000, 5000],[6000, 5500, 7000, 16000]] ```\n",
    "\n",
    "ii. Utilize o método ```.transpose ``` e certifique-se de que esse ndarray tenha uma linha por indivíduo e uma coluna por informação. Utilizando a indexação do numpy, imprima no output a segunda linha do array, depois a segunda coluna.\n",
    "\n",
    "iii. Pratique aritmética com nearrays e calcule o endividamento total como:\n",
    "$$endividamento\\hspace{.2cm}total = \\frac{custo \\hspace{.2cm}fixo + dívida\\hspace{.2cm}financeira}{renda\\hspace{.2cm}familiar}$$\n",
    "Guarde os resultados em uma variável chamada ```endividamento_total``` e verifique os resultados imprimindo o conteúdo dessa variável no output.\n",
    "\n",
    "iv. Considere que há um erro de digitação que precisa ser corrigido: 3o indivíduo na verdade não possui renda familiar de R\\\\$7.000,00, mas sim R\\\\$ 10.000,00. Corrija esse valor e refaça os cálculos."
   ]
  },
  {
   "cell_type": "code",
   "execution_count": 17,
   "metadata": {
    "id": "k17jw6kT695r"
   },
   "outputs": [
    {
     "name": "stdout",
     "output_type": "stream",
     "text": [
      "Segunda linha: [1000 2500 3000 5000]\n",
      "Segunda coluna: [2500 2500 5500]\n",
      "Endividamento total antes da correção: [2.5        0.83333333 0.55      ]\n",
      "Endividamento total após a correção: [2.5        0.83333333 0.55      ]\n"
     ]
    }
   ],
   "source": [
    "# lista dados_financeiros\n",
    "dados_financeiros = [[3000, 2500, 1000, 10000],[1000, 2500, 3000, 5000],[6000, 5500, 7000, 16000]]\n",
    "dados_financeiros\n",
    "\n",
    "#i) transforme essa lista em um ndarray\n",
    "nd_financeiros = np.array(dados_financeiros)\n",
    "\n",
    "# Transposição para garantir que cada linha representa um indivíduo\n",
    "nd_financeiros = nd_financeiros.transpose()\n",
    "\n",
    "# Impressão da segunda linha e segunda coluna\n",
    "segunda_linha = nd_financeiros[1]  # Segunda linha\n",
    "segunda_coluna = nd_financeiros[:, 1]  # Segunda coluna\n",
    "print(\"Segunda linha:\", segunda_linha)\n",
    "print(\"Segunda coluna:\", segunda_coluna)\n",
    "\n",
    "# Cálculo do endividamento total (dívida financeira / renda familiar)\n",
    "endividamento_total = nd_financeiros[:, 1] / nd_financeiros[:, 2]\n",
    "print(\"Endividamento total antes da correção:\", endividamento_total)\n",
    "\n",
    "# Correção do erro de digitação (3º indivíduo, índice 2)\n",
    "nd_financeiros[2, 2] = 10000\n",
    "\n",
    "# Recalcular o endividamento total após a correção\n",
    "endividamento_total_corrigido = nd_financeiros[:, 1] / nd_financeiros[:, 2]\n",
    "print(\"Endividamento total após a correção:\", endividamento_total_corrigido)"
   ]
  },
  {
   "cell_type": "code",
   "execution_count": null,
   "metadata": {
    "id": "ecRsPjml695r"
   },
   "outputs": [],
   "source": [
    "# ii) Transposição para garantir que cada linha representa um indivíduo"
   ]
  },
  {
   "cell_type": "code",
   "execution_count": null,
   "metadata": {
    "id": "RgMG-t9-695s"
   },
   "outputs": [],
   "source": [
    "# iii) Calcule o endividamento total"
   ]
  },
  {
   "cell_type": "code",
   "execution_count": null,
   "metadata": {
    "id": "FxaSHRgy695t"
   },
   "outputs": [],
   "source": [
    "# iv) corrigindo um valor específico"
   ]
  },
  {
   "cell_type": "code",
   "execution_count": null,
   "metadata": {
    "id": "OYxfd00O695t"
   },
   "outputs": [],
   "source": []
  },
  {
   "cell_type": "markdown",
   "metadata": {
    "id": "RghMgSOX695t"
   },
   "source": [
    "### 4) É muito comum precisarmos identificar valores especiais e darmos tratamento a eles quer seja alterando-os quer seja descartando-os. \n",
    "\n",
    "O trecho de código abaixo gera um ndarray com números pseudo aleatórios. Considere que para efeitos do estudo que virá, devemos desconsiderar valores iguais a zero. Sendo assim:\n",
    "\n",
    "i) crie um objeto ```bool_zero``` que traga uma sequencia de booleanos do mesmo tamanho que o objeto poi, e que vale ```True``` quando o valor de ```poi``` é zero, e ```False``` caso contrário.\n",
    "\n",
    "ii) Conte quantos valores zero existem. Lembre-se de que no final das contas, ```True``` vale 1 para o Python, e ```False``` vale zero, então uma boa dica seria usar a função ```sum()```.\n",
    "\n",
    "iii) Utilize a indexação booleana que você aprendeu para criar uma variável ```poi_nao_zero``` que aponta para os elementos de ```poi``` diferentes de zero. Dica: você vai pode inverter os elementos do objeto que criou em *ii)* ou escrever a comparação adequada."
   ]
  },
  {
   "cell_type": "code",
   "execution_count": 19,
   "metadata": {
    "id": "Y6JUhNiT695t",
    "outputId": "06ceb3b7-5eb0-45d0-f3b3-ea6ff6f0df2a"
   },
   "outputs": [
    {
     "name": "stdout",
     "output_type": "stream",
     "text": [
      "Valores iguais a zero [False False False False False False False False False  True False False\n",
      " False False False False False False  True False False False False False\n",
      "  True False False False False False False False False False False False\n",
      " False False False False False False False False False False False False\n",
      " False False False False False False False False  True False False False\n",
      " False False False False False False False False False False False False\n",
      " False False False False False False False False False False  True False\n",
      " False  True False False False False False False False False False False\n",
      " False False False False]\n",
      "Número de valores zeros: 6\n",
      "Valores diferentes de zero: [3 3 6 2 4 5 4 4 2 3 3 2 8 2 3 3 3 4 4 2 6 6 3 4 3 5 2 1 3 2 2 3 2 4 4 5 7\n",
      " 3 5 3 3 2 2 3 6 2 2 4 3 5 2 5 3 2 1 1 4 4 4 6 2 4 1 2 5 5 3 4 1 4 1 1 7 1\n",
      " 2 1 3 7 4 4 6 1 3 4 2 5 4 5 5 3 4 6 8 2]\n"
     ]
    }
   ],
   "source": [
    "# objeto poi - obs: o comando np.random.seed(1234) garante que o mesmo resultado será gerado sempre\n",
    "np.random.seed(1234) # Para reprodutibilidade\n",
    "poi = np.random.poisson(3, 100)  # Gerando 100 números a partir de uma distribuição de Poisson\n",
    "\n",
    "# i) Criando um objeto bool_zero que identifica os valores iguais a zero\n",
    "bool_zero = (poi==0)\n",
    "print(\"Valores iguais a zero\",bool_zero)\n",
    "\n",
    "# ii) Contando quantos valores zero existem\n",
    "num_zeros = np.sum(bool_zero)\n",
    "print(\"Número de valores zeros:\",num_zeros)\n",
    "\n",
    "\n",
    "# iii) Criando poi_nao_zero utilizando indexação booleana\n",
    "poi_nao_zero = poi[~bool_zero]\n",
    "print(\"Valores diferentes de zero:\",poi_nao_zero)\n"
   ]
  },
  {
   "cell_type": "code",
   "execution_count": null,
   "metadata": {
    "id": "dWElD2MJ695u"
   },
   "outputs": [],
   "source": [
    "# i) crie o objeto bool_zero através do operador =="
   ]
  },
  {
   "cell_type": "code",
   "execution_count": null,
   "metadata": {
    "id": "hr-knXzs695u"
   },
   "outputs": [],
   "source": [
    "# ii) Conte a quantidade de zeros (ou some os elementos de bool_zero)"
   ]
  },
  {
   "cell_type": "code",
   "execution_count": null,
   "metadata": {
    "id": "5s3DqCup695u"
   },
   "outputs": [],
   "source": [
    "# iii) utilize a indexação booleana para criar uma seleção de não-zeros\n",
    "# dica: inverta o objeto bool_zero"
   ]
  }
 ],
 "metadata": {
  "colab": {
   "collapsed_sections": [],
   "provenance": []
  },
  "kernelspec": {
   "display_name": "Python [conda env:base] *",
   "language": "python",
   "name": "conda-base-py"
  },
  "language_info": {
   "codemirror_mode": {
    "name": "ipython",
    "version": 3
   },
   "file_extension": ".py",
   "mimetype": "text/x-python",
   "name": "python",
   "nbconvert_exporter": "python",
   "pygments_lexer": "ipython3",
   "version": "3.12.7"
  }
 },
 "nbformat": 4,
 "nbformat_minor": 4
}
